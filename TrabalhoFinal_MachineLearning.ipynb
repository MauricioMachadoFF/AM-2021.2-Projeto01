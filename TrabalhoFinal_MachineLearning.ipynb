{
  "nbformat": 4,
  "nbformat_minor": 0,
  "metadata": {
    "colab": {
      "name": "TrabalhoFinal_MachineLearning.ipynb",
      "provenance": [],
      "include_colab_link": true
    },
    "kernelspec": {
      "name": "python3",
      "display_name": "Python 3"
    },
    "language_info": {
      "name": "python"
    }
  },
  "cells": [
    {
      "cell_type": "markdown",
      "metadata": {
        "id": "view-in-github",
        "colab_type": "text"
      },
      "source": [
        "<a href=\"https://colab.research.google.com/github/MauricioMachadoFF/AM-2021.2-Projeto01/blob/add-Colab-Notebook/TrabalhoFinal_MachineLearning.ipynb\" target=\"_parent\"><img src=\"https://colab.research.google.com/assets/colab-badge.svg\" alt=\"Open In Colab\"/></a>"
      ]
    },
    {
      "cell_type": "code",
      "execution_count": null,
      "metadata": {
        "colab": {
          "base_uri": "https://localhost:8080/"
        },
        "id": "q0sZLcd1qhBL",
        "outputId": "f232dbf4-52e3-4ed3-f9cb-ff2b1513fa66"
      },
      "outputs": [
        {
          "output_type": "stream",
          "name": "stdout",
          "text": [
            "\u001b[?25l\r\u001b[K     |▌                               | 10 kB 18.4 MB/s eta 0:00:01\r\u001b[K     |█                               | 20 kB 23.5 MB/s eta 0:00:01\r\u001b[K     |█▍                              | 30 kB 29.6 MB/s eta 0:00:01\r\u001b[K     |█▉                              | 40 kB 28.0 MB/s eta 0:00:01\r\u001b[K     |██▎                             | 51 kB 19.8 MB/s eta 0:00:01\r\u001b[K     |██▊                             | 61 kB 22.6 MB/s eta 0:00:01\r\u001b[K     |███▏                            | 71 kB 22.4 MB/s eta 0:00:01\r\u001b[K     |███▋                            | 81 kB 22.8 MB/s eta 0:00:01\r\u001b[K     |████                            | 92 kB 24.8 MB/s eta 0:00:01\r\u001b[K     |████▌                           | 102 kB 21.7 MB/s eta 0:00:01\r\u001b[K     |█████                           | 112 kB 21.7 MB/s eta 0:00:01\r\u001b[K     |█████▌                          | 122 kB 21.7 MB/s eta 0:00:01\r\u001b[K     |██████                          | 133 kB 21.7 MB/s eta 0:00:01\r\u001b[K     |██████▍                         | 143 kB 21.7 MB/s eta 0:00:01\r\u001b[K     |██████▉                         | 153 kB 21.7 MB/s eta 0:00:01\r\u001b[K     |███████▎                        | 163 kB 21.7 MB/s eta 0:00:01\r\u001b[K     |███████▊                        | 174 kB 21.7 MB/s eta 0:00:01\r\u001b[K     |████████▏                       | 184 kB 21.7 MB/s eta 0:00:01\r\u001b[K     |████████▋                       | 194 kB 21.7 MB/s eta 0:00:01\r\u001b[K     |█████████                       | 204 kB 21.7 MB/s eta 0:00:01\r\u001b[K     |█████████▋                      | 215 kB 21.7 MB/s eta 0:00:01\r\u001b[K     |██████████                      | 225 kB 21.7 MB/s eta 0:00:01\r\u001b[K     |██████████▌                     | 235 kB 21.7 MB/s eta 0:00:01\r\u001b[K     |███████████                     | 245 kB 21.7 MB/s eta 0:00:01\r\u001b[K     |███████████▍                    | 256 kB 21.7 MB/s eta 0:00:01\r\u001b[K     |███████████▉                    | 266 kB 21.7 MB/s eta 0:00:01\r\u001b[K     |████████████▎                   | 276 kB 21.7 MB/s eta 0:00:01\r\u001b[K     |████████████▊                   | 286 kB 21.7 MB/s eta 0:00:01\r\u001b[K     |█████████████▏                  | 296 kB 21.7 MB/s eta 0:00:01\r\u001b[K     |█████████████▋                  | 307 kB 21.7 MB/s eta 0:00:01\r\u001b[K     |██████████████                  | 317 kB 21.7 MB/s eta 0:00:01\r\u001b[K     |██████████████▋                 | 327 kB 21.7 MB/s eta 0:00:01\r\u001b[K     |███████████████                 | 337 kB 21.7 MB/s eta 0:00:01\r\u001b[K     |███████████████▌                | 348 kB 21.7 MB/s eta 0:00:01\r\u001b[K     |████████████████                | 358 kB 21.7 MB/s eta 0:00:01\r\u001b[K     |████████████████▍               | 368 kB 21.7 MB/s eta 0:00:01\r\u001b[K     |████████████████▉               | 378 kB 21.7 MB/s eta 0:00:01\r\u001b[K     |█████████████████▎              | 389 kB 21.7 MB/s eta 0:00:01\r\u001b[K     |█████████████████▊              | 399 kB 21.7 MB/s eta 0:00:01\r\u001b[K     |██████████████████▏             | 409 kB 21.7 MB/s eta 0:00:01\r\u001b[K     |██████████████████▋             | 419 kB 21.7 MB/s eta 0:00:01\r\u001b[K     |███████████████████▏            | 430 kB 21.7 MB/s eta 0:00:01\r\u001b[K     |███████████████████▋            | 440 kB 21.7 MB/s eta 0:00:01\r\u001b[K     |████████████████████            | 450 kB 21.7 MB/s eta 0:00:01\r\u001b[K     |████████████████████▌           | 460 kB 21.7 MB/s eta 0:00:01\r\u001b[K     |█████████████████████           | 471 kB 21.7 MB/s eta 0:00:01\r\u001b[K     |█████████████████████▍          | 481 kB 21.7 MB/s eta 0:00:01\r\u001b[K     |█████████████████████▉          | 491 kB 21.7 MB/s eta 0:00:01\r\u001b[K     |██████████████████████▎         | 501 kB 21.7 MB/s eta 0:00:01\r\u001b[K     |██████████████████████▊         | 512 kB 21.7 MB/s eta 0:00:01\r\u001b[K     |███████████████████████▏        | 522 kB 21.7 MB/s eta 0:00:01\r\u001b[K     |███████████████████████▋        | 532 kB 21.7 MB/s eta 0:00:01\r\u001b[K     |████████████████████████▏       | 542 kB 21.7 MB/s eta 0:00:01\r\u001b[K     |████████████████████████▋       | 552 kB 21.7 MB/s eta 0:00:01\r\u001b[K     |█████████████████████████       | 563 kB 21.7 MB/s eta 0:00:01\r\u001b[K     |█████████████████████████▌      | 573 kB 21.7 MB/s eta 0:00:01\r\u001b[K     |██████████████████████████      | 583 kB 21.7 MB/s eta 0:00:01\r\u001b[K     |██████████████████████████▍     | 593 kB 21.7 MB/s eta 0:00:01\r\u001b[K     |██████████████████████████▉     | 604 kB 21.7 MB/s eta 0:00:01\r\u001b[K     |███████████████████████████▎    | 614 kB 21.7 MB/s eta 0:00:01\r\u001b[K     |███████████████████████████▊    | 624 kB 21.7 MB/s eta 0:00:01\r\u001b[K     |████████████████████████████▏   | 634 kB 21.7 MB/s eta 0:00:01\r\u001b[K     |████████████████████████████▊   | 645 kB 21.7 MB/s eta 0:00:01\r\u001b[K     |█████████████████████████████▏  | 655 kB 21.7 MB/s eta 0:00:01\r\u001b[K     |█████████████████████████████▋  | 665 kB 21.7 MB/s eta 0:00:01\r\u001b[K     |██████████████████████████████  | 675 kB 21.7 MB/s eta 0:00:01\r\u001b[K     |██████████████████████████████▌ | 686 kB 21.7 MB/s eta 0:00:01\r\u001b[K     |███████████████████████████████ | 696 kB 21.7 MB/s eta 0:00:01\r\u001b[K     |███████████████████████████████▍| 706 kB 21.7 MB/s eta 0:00:01\r\u001b[K     |███████████████████████████████▉| 716 kB 21.7 MB/s eta 0:00:01\r\u001b[K     |████████████████████████████████| 720 kB 21.7 MB/s \n",
            "\u001b[K     |████████████████████████████████| 48 kB 4.6 MB/s \n",
            "\u001b[K     |████████████████████████████████| 1.2 MB 55.0 MB/s \n",
            "\u001b[K     |████████████████████████████████| 189 kB 72.4 MB/s \n",
            "\u001b[K     |████████████████████████████████| 55 kB 3.7 MB/s \n",
            "\u001b[K     |████████████████████████████████| 561 kB 55.9 MB/s \n",
            "\u001b[K     |████████████████████████████████| 51 kB 295 kB/s \n",
            "\u001b[K     |████████████████████████████████| 130 kB 73.0 MB/s \n",
            "\u001b[?25h"
          ]
        }
      ],
      "source": [
        "!pip install -Uqq fastbook"
      ]
    },
    {
      "cell_type": "code",
      "source": [
        "import fastbook\n",
        "fastbook.setup_book()"
      ],
      "metadata": {
        "colab": {
          "base_uri": "https://localhost:8080/"
        },
        "id": "YudFuzAlryQu",
        "outputId": "05d14526-f65e-4b3f-ce9b-085831a9b846"
      },
      "execution_count": null,
      "outputs": [
        {
          "output_type": "stream",
          "name": "stdout",
          "text": [
            "Mounted at /content/gdrive\n"
          ]
        }
      ]
    },
    {
      "cell_type": "code",
      "source": [
        "from fastbook import *\n",
        "from fastai.vision.widgets import *"
      ],
      "metadata": {
        "id": "26uTeTXEr3HA"
      },
      "execution_count": null,
      "outputs": []
    }
  ]
}